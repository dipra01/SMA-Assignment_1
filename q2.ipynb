{
 "cells": [
  {
   "cell_type": "code",
   "execution_count": 1,
   "metadata": {},
   "outputs": [
    {
     "name": "stdout",
     "output_type": "stream",
     "text": [
      "-----------Statistics for Dolphins Social Network -----------\n",
      "Name: \n",
      "Type: Graph\n",
      "Number of nodes: 62\n",
      "Number of edges: 159\n",
      "Average degree:   5.1290\n",
      "Avg path length :  3.3569539925965097\n",
      "Avg clustering coefficient :  0.2589582460550202\n",
      "-----------------------------------------\n",
      "-----------Statistics for Karate Club Network -----------\n",
      "Name: \n",
      "Type: Graph\n",
      "Number of nodes: 34\n",
      "Number of edges: 78\n",
      "Average degree:   4.5882\n",
      "Avg path length :  2.408199643493761\n",
      "Avg clustering coefficient :  0.5706384782076823\n",
      "-----------------------------------------\n",
      "-----------Statistics for Jazz Musicians Network -----------\n",
      "Name: \n",
      "Type: Graph\n",
      "Number of nodes: 198\n",
      "Number of edges: 2740\n",
      "Average degree:  27.6768\n",
      "Avg path length :  2.235143311285443\n",
      "Avg clustering coefficient :  0.617157829556881\n",
      "-----------------------------------------\n"
     ]
    }
   ],
   "source": [
    "import networkx as nx\n",
    "from networkx.algorithms.community.centrality import girvan_newman\n",
    "from networkx.algorithms.community import greedy_modularity_communities\n",
    "import networkx.algorithms.community as nx_comm\n",
    "import numpy as np\n",
    "from sklearn.cluster import SpectralClustering\n",
    "dolphin_data = nx.read_gml(\"dolphins.gml\")\n",
    "print(\"-----------Statistics for Dolphins Social Network -----------\")\n",
    "print(nx.info(dolphin_data))\n",
    "print(\"Avg path length : \", nx.average_shortest_path_length(dolphin_data))\n",
    "avg = nx.average_clustering(dolphin_data)\n",
    "print(\"Avg clustering coefficient : \", avg)\n",
    "print(\"-----------------------------------------\")\n",
    "\n",
    "\n",
    "\n",
    "print(\"-----------Statistics for Karate Club Network -----------\")\n",
    "karate_data = nx.read_gml(\"karate.gml\", label='id')\n",
    "print(nx.info(karate_data))\n",
    "print(\"Avg path length : \", nx.average_shortest_path_length(karate_data))\n",
    "avg = nx.average_clustering(karate_data)\n",
    "print(\"Avg clustering coefficient : \", avg)\n",
    "print(\"-----------------------------------------\")\n",
    "\n",
    "\n",
    "print(\"-----------Statistics for Jazz Musicians Network -----------\")\n",
    "f = open(\"jazz.net\",\"r\")\n",
    "lines = f.readlines()\n",
    "f.close()\n",
    "newfile = open(\"jazz.net\",\"w\")\n",
    "for i in lines:\n",
    "    if i != lines[0] and i != lines[1] and i != lines[2]:\n",
    "        newfile.write(i)\n",
    "newfile.close()\n",
    "jazz_data = nx.read_weighted_edgelist(\"jazz.net\")\n",
    "print(nx.info(jazz_data))\n",
    "print(\"Avg path length : \", nx.average_shortest_path_length(jazz_data))\n",
    "avg = nx.average_clustering(jazz_data)\n",
    "print(\"Avg clustering coefficient : \", avg)\n",
    "print(\"-----------------------------------------\")\n"
   ]
  }
 ],
 "metadata": {
  "kernelspec": {
   "display_name": "Python 3",
   "language": "python",
   "name": "python3"
  },
  "language_info": {
   "codemirror_mode": {
    "name": "ipython",
    "version": 3
   },
   "file_extension": ".py",
   "mimetype": "text/x-python",
   "name": "python",
   "nbconvert_exporter": "python",
   "pygments_lexer": "ipython3",
   "version": "3.6.5"
  }
 },
 "nbformat": 4,
 "nbformat_minor": 2
}
